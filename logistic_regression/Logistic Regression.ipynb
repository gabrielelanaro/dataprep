{
 "cells": [
  {
   "cell_type": "code",
   "execution_count": 2,
   "metadata": {
    "collapsed": false
   },
   "outputs": [],
   "source": [
    "%matplotlib inline"
   ]
  },
  {
   "cell_type": "code",
   "execution_count": 64,
   "metadata": {
    "collapsed": false
   },
   "outputs": [
    {
     "data": {
      "image/png": "[encoded data removed]",
      "text/plain": [
       "<matplotlib.figure.Figure at 0x7f3174a06910>"
      ]
     },
     "metadata": {},
     "output_type": "display_data"
    }
   ],
   "source": [
    "'''Implementation of logistic regression with numpy'''\n",
    "\n",
    "import numpy as np\n",
    "import matplotlib.pyplot as plt\n",
    "np.random.seed(42)\n",
    "# We generate 20 points\n",
    "x = np.linspace(-10, 10, 100)\n",
    "X = np.vstack([np.ones_like(x), x])\n",
    "beta = np.array([2.0, 0.7])\n",
    "\n",
    "linear = beta.T.dot(X)\n",
    "\n",
    "p_y = np.exp(linear) / (1 + np.exp(linear))\n",
    "y = np.random.rand(p_y.shape[0]) < p_y\n",
    "\n",
    "plt.plot(x[y], y[y] - 0.5, '|', markersize=30.0)\n",
    "plt.plot(x[~y], y[~y] + 0.5, '|', color='r', markersize=30.0)\n",
    "plt.plot(x, p_y, color='r', markersize=30.0)\n",
    "plt.show()\n",
    "y = y.astype(float)"
   ]
  },
  {
   "cell_type": "code",
   "execution_count": 67,
   "metadata": {
    "collapsed": false
   },
   "outputs": [
    {
     "data": {
      "text/plain": [
       "<matplotlib.legend.Legend at 0x7f3174569310>"
      ]
     },
     "execution_count": 67,
     "metadata": {},
     "output_type": "execute_result"
    },
    {
     "data": {
      "image/png": "[encoded data removed]",
      "text/plain": [
       "<matplotlib.figure.Figure at 0x7f3175049c10>"
      ]
     },
     "metadata": {},
     "output_type": "display_data"
    }
   ],
   "source": [
    "'''We want to determine the best logstic model that represents\n",
    "this dataset and we can do with logistic regression'''\n",
    "\n",
    "def log_likelihood(x, y, beta):\n",
    "    linear = beta.T.dot(x)\n",
    "    p = np.exp(linear) / (1 + np.exp(linear))\n",
    "    lik = y * linear - np.log1p(np.exp(linear))\n",
    "    return lik.sum()\n",
    "\n",
    "\n",
    "# Likelihood gradient for logistic regression\n",
    "def calc_gradient(x, y, beta):\n",
    "    p = np.exp(beta.T.dot(x)) / (1 + np.exp(beta.T.dot(x)))\n",
    "    \n",
    "    grad = x * (y - p)\n",
    "    return grad.sum(axis=1)\n",
    "\n",
    "beta_est = np.array([0.0, 0.0])\n",
    "alpha = 0.003\n",
    "niter = 400\n",
    "\n",
    "convergence = []\n",
    "for i in range(niter):\n",
    "    convergence.append(beta_est.copy())\n",
    "    grad = calc_gradient(X, y, beta_est)\n",
    "    beta_est += alpha * grad\n",
    "\n",
    "convergence = np.array(convergence)\n",
    "\n",
    "plt.plot(range(niter), convergence[:, 0], label='bias')\n",
    "plt.plot(range(niter), convergence[:, 1], label='x1')\n",
    "plt.legend()"
   ]
  }
 ],
 "metadata": {
  "kernelspec": {
   "display_name": "Python 2",
   "language": "python",
   "name": "python2"
  },
  "language_info": {
   "codemirror_mode": {
    "name": "ipython",
    "version": 2
   },
   "file_extension": ".py",
   "mimetype": "text/x-python",
   "name": "python",
   "nbconvert_exporter": "python",
   "pygments_lexer": "ipython2",
   "version": "2.7.12"
  }
 },
 "nbformat": 4,
 "nbformat_minor": 0
}
