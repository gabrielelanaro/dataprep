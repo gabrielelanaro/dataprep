{
 "cells": [
  {
   "cell_type": "code",
   "execution_count": 3,
   "metadata": {
    "collapsed": false
   },
   "outputs": [],
   "source": [
    "%matplotlib inline"
   ]
  },
  {
   "cell_type": "code",
   "execution_count": 118,
   "metadata": {
    "collapsed": false
   },
   "outputs": [
    {
     "data": {
      "image/png": "[encoded data removed]",
      "text/plain": [
       "<matplotlib.figure.Figure at 0x7f50183e5b90>"
      ]
     },
     "metadata": {},
     "output_type": "display_data"
    }
   ],
   "source": [
    "'''Implementation of logistic regression with numpy'''\n",
    "\n",
    "import numpy as np\n",
    "import matplotlib.pyplot as plt\n",
    "\n",
    "# We generate 20 points\n",
    "x = np.linspace(-10, 10, 100)\n",
    "eps = np.random.normal(scale=0.01, size=x.shape)\n",
    "\n",
    "beta = np.array([1.0, 0.5])\n",
    "linear = beta[0] + beta[1] * x + eps\n",
    "p_y = np.exp(linear) / (1 + np.exp(linear))\n",
    "y = p_y > 0.5\n",
    "\n",
    "plt.plot(x[y], y[y] - 0.5, '|', markersize=30.0)\n",
    "plt.plot(x[~y], y[~y] + 0.5, '|', color='r', markersize=30.0)\n",
    "plt.plot(x, p_y, color='r', markersize=30.0)\n",
    "plt.show()\n",
    "y = y.astype(float)"
   ]
  },
  {
   "cell_type": "code",
   "execution_count": 161,
   "metadata": {
    "collapsed": false
   },
   "outputs": [
    {
     "name": "stdout",
     "output_type": "stream",
     "text": [
      "(array([ 1.        ,  1.02540559]), -10.702893592927904)\n"
     ]
    }
   ],
   "source": [
    "'''We want to determine the best logstic model that represents\n",
    "this dataset and we can do with logistic regression'''\n",
    "\n",
    "def log_likelihood(x, y, beta):\n",
    "    linear = beta[0] + beta[1] * x\n",
    "    p = np.exp(linear) / (1 + np.exp(linear))\n",
    "    \n",
    "    lik = y * linear - np.log1p(np.exp(linear))\n",
    "    return lik.sum()\n",
    "\n",
    "# Likelihood gradient for logistic regression\n",
    "def calc_gradient(x, y, beta):\n",
    "    linear = beta[0] + beta[1] * x\n",
    "    p = np.exp(linear)/(1 + np.exp(linear))\n",
    "    grad = np.array([np.dot(y - p, np.ones_like(x)), np.dot(y - p, x)])\n",
    "    grad = np.array([0.0, np.dot(y - p, x)])\n",
    "    return grad\n",
    "\n",
    "beta_est = np.array([1.0, 0.01])\n",
    "alpha = 0.01\n",
    "niter = 800\n",
    "\n",
    "for i in range(niter):\n",
    "    grad = calc_gradient(x, y, beta_est)\n",
    "    beta_est += alpha * grad\n",
    "\n",
    "print(beta_est, log_likelihood(x, y, beta_est))\n"
   ]
  },
  {
   "cell_type": "code",
   "execution_count": 150,
   "metadata": {
    "collapsed": false
   },
   "outputs": [],
   "source": [
    "\n",
    "def grad_check(x, y, beta):\n",
    "    eps = 0.0001\n",
    "    grad_0 = (log_likelihood(x, y, [beta[0] + eps, beta[1]]) - \n",
    "                  log_likelihood(x, y, [beta[0], beta[1]])) / eps\n",
    "    grad_1 = (log_likelihood(x, y, [beta[0], beta[1] + eps]) - \n",
    "              log_likelihood(x, y, [beta[0], beta[1]])) / eps\n",
    "    return np.array([grad_0, grad_1])"
   ]
  },
  {
   "cell_type": "code",
   "execution_count": 148,
   "metadata": {
    "collapsed": false
   },
   "outputs": [
    {
     "data": {
      "text/plain": [
       "([5.0502291474963101, 0.51682388878759866], array([ 5.05047662,  0.51788164]))"
      ]
     },
     "execution_count": 148,
     "metadata": {},
     "output_type": "execute_result"
    }
   ],
   "source": [
    "grad_check(x, y, [1.0, 1.0]), calc_gradient(x, y, [1.0, 1.0])"
   ]
  },
  {
   "cell_type": "code",
   "execution_count": 101,
   "metadata": {
    "collapsed": false
   },
   "outputs": [
    {
     "name": "stdout",
     "output_type": "stream",
     "text": [
      "1.02010050251\n"
     ]
    },
    {
     "data": {
      "image/png": "[encoded data removed]",
      "text/plain": [
       "<matplotlib.figure.Figure at 0x7f501854d250>"
      ]
     },
     "metadata": {},
     "output_type": "display_data"
    }
   ],
   "source": [
    "betas = np.linspace(-1, 2, 200)\n",
    "likelihoods = np.array([log_likelihood(x, y, [1.0, b]) for b in betas])\n",
    "plt.plot(betas, likelihoods)\n",
    "print(betas[np.argmax(likelihoods)])"
   ]
  },
  {
   "cell_type": "code",
   "execution_count": null,
   "metadata": {
    "collapsed": true
   },
   "outputs": [],
   "source": []
  }
 ],
 "metadata": {
  "kernelspec": {
   "display_name": "Python 2",
   "language": "python",
   "name": "python2"
  },
  "language_info": {
   "codemirror_mode": {
    "name": "ipython",
    "version": 2
   },
   "file_extension": ".py",
   "mimetype": "text/x-python",
   "name": "python",
   "nbconvert_exporter": "python",
   "pygments_lexer": "ipython2",
   "version": "2.7.12"
  }
 },
 "nbformat": 4,
 "nbformat_minor": 0
}
